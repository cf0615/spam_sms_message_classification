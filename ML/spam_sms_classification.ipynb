{
 "cells": [
  {
   "cell_type": "markdown",
   "id": "aa4ac12e",
   "metadata": {},
   "source": [
    "# Import Libaries"
   ]
  },
  {
   "cell_type": "code",
   "execution_count": 1,
   "id": "3c0be92a",
   "metadata": {},
   "outputs": [],
   "source": [
    "import pandas as pd\n",
    "import numpy as np\n",
    "import nltk"
   ]
  },
  {
   "cell_type": "markdown",
   "id": "07d309fb",
   "metadata": {},
   "source": [
    "# Read csv dataset"
   ]
  },
  {
   "cell_type": "code",
   "execution_count": null,
   "id": "ae1732db",
   "metadata": {},
   "outputs": [],
   "source": [
    "spamMsg = pd.read_csv(\"spam.csv\")"
   ]
  }
 ],
 "metadata": {
  "kernelspec": {
   "display_name": "Python 3 (ipykernel)",
   "language": "python",
   "name": "python3"
  },
  "language_info": {
   "codemirror_mode": {
    "name": "ipython",
    "version": 3
   },
   "file_extension": ".py",
   "mimetype": "text/x-python",
   "name": "python",
   "nbconvert_exporter": "python",
   "pygments_lexer": "ipython3",
   "version": "3.11.3"
  }
 },
 "nbformat": 4,
 "nbformat_minor": 5
}
